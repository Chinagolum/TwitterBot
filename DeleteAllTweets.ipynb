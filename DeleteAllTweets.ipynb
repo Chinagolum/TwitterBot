{
 "cells": [
  {
   "cell_type": "code",
   "execution_count": null,
   "metadata": {},
   "outputs": [],
   "source": [
    "class HelperClass:\n",
    "    #variable = \"blah\"\n",
    "    \n",
    "    @staticmethod\n",
    "    def batch_delete(api):\n",
    "        #print \"Deleting all tweets from the account @%s.\" % api.verify_credentials().screen_name\n",
    "        for status in tweepy.Cursor(api.user_timeline).items():\n",
    "           try:\n",
    "               #api.destroy_status(status.id)\n",
    "                #print \"Deleted:\", status.id\n",
    "               thread.start_new_thread( deleteThread, (api, status.id, ) )\n",
    "           except:\n",
    "               #print \"Failed to delete:\", status.id"
   ]
  }
 ],
 "metadata": {
  "kernelspec": {
   "display_name": "Python 3",
   "language": "python",
   "name": "python3"
  },
  "language_info": {
   "codemirror_mode": {
    "name": "ipython",
    "version": 3
   },
   "file_extension": ".py",
   "mimetype": "text/x-python",
   "name": "python",
   "nbconvert_exporter": "python",
   "pygments_lexer": "ipython3",
   "version": "3.6.4"
  }
 },
 "nbformat": 4,
 "nbformat_minor": 2
}
