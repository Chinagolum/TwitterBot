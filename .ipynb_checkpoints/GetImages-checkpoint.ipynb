{
 "cells": [
  {
   "cell_type": "code",
   "execution_count": 1,
   "metadata": {},
   "outputs": [],
   "source": [
    "# model scraping for themodelbot\n",
    "\n",
    "import requests\n",
    "from bs4 import BeautifulSoup as bs\n",
    "import os\n",
    "\n",
    "# website with model images\n",
    "#url = 'https://www.pexels.com/search/model/'\n",
    "url = 'https://www.billboard.com/photos/6715351/best-album-covers-of-all-time'\n",
    "# download page for parsing\n",
    "page = requests.get(url)\n",
    "soup = bs(page.text, 'html.parser')\n",
    "\n",
    "# locate all elements with image tag\n",
    "image_tags = soup.findAll('img')\n",
    "\n",
    "# create directory for model images\n",
    "if not os.path.exists('AlbumCovers'):\n",
    "    os.makedirs('AlbumCovers')\n",
    "\n",
    "# move to new directory\n",
    "os.chdir('AlbumCovers')\n",
    "\n",
    "# image file name variable\n",
    "x = 0\n",
    "\n",
    "# writing images\n",
    "for image in image_tags:\n",
    "    try:\n",
    "        url = image['src']\n",
    "        response = requests.get(url)\n",
    "        if response.status_code == 200:\n",
    "            with open('Album-' + str(x) + '.jpg', 'wb') as f:\n",
    "                f.write(requests.get(url).content)\n",
    "                f.close()\n",
    "                x += 1\n",
    "    except:\n",
    "        pass\n",
    "\n",
    "\n",
    "\n",
    "\n",
    "\n",
    "\n"
   ]
  },
  {
   "cell_type": "code",
   "execution_count": null,
   "metadata": {},
   "outputs": [],
   "source": []
  },
  {
   "cell_type": "code",
   "execution_count": null,
   "metadata": {},
   "outputs": [],
   "source": []
  },
  {
   "cell_type": "code",
   "execution_count": null,
   "metadata": {},
   "outputs": [],
   "source": []
  },
  {
   "cell_type": "code",
   "execution_count": null,
   "metadata": {},
   "outputs": [],
   "source": []
  },
  {
   "cell_type": "code",
   "execution_count": null,
   "metadata": {},
   "outputs": [],
   "source": []
  }
 ],
 "metadata": {
  "kernelspec": {
   "display_name": "Python 3",
   "language": "python",
   "name": "python3"
  },
  "language_info": {
   "codemirror_mode": {
    "name": "ipython",
    "version": 3
   },
   "file_extension": ".py",
   "mimetype": "text/x-python",
   "name": "python",
   "nbconvert_exporter": "python",
   "pygments_lexer": "ipython3",
   "version": "3.6.4"
  }
 },
 "nbformat": 4,
 "nbformat_minor": 2
}
